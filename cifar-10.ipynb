{
 "cells": [
  {
   "cell_type": "code",
   "execution_count": 1,
   "metadata": {},
   "outputs": [
    {
     "name": "stderr",
     "output_type": "stream",
     "text": [
      "/home/ubuntu/anaconda3/lib/python3.6/site-packages/h5py/__init__.py:36: FutureWarning: Conversion of the second argument of issubdtype from `float` to `np.floating` is deprecated. In future, it will be treated as `np.float64 == np.dtype(float).type`.\n",
      "  from ._conv import register_converters as _register_converters\n",
      "Using TensorFlow backend.\n"
     ]
    },
    {
     "name": "stdout",
     "output_type": "stream",
     "text": [
      "_________________________________________________________________\n",
      "Layer (type)                 Output Shape              Param #   \n",
      "=================================================================\n",
      "conv2d_1 (Conv2D)            (None, 32, 32, 64)        1792      \n",
      "_________________________________________________________________\n",
      "max_pooling2d_1 (MaxPooling2 (None, 16, 16, 64)        0         \n",
      "_________________________________________________________________\n",
      "conv2d_2 (Conv2D)            (None, 16, 16, 128)       73856     \n",
      "_________________________________________________________________\n",
      "max_pooling2d_2 (MaxPooling2 (None, 8, 8, 128)         0         \n",
      "_________________________________________________________________\n",
      "conv2d_3 (Conv2D)            (None, 8, 8, 256)         295168    \n",
      "_________________________________________________________________\n",
      "conv2d_4 (Conv2D)            (None, 8, 8, 256)         590080    \n",
      "_________________________________________________________________\n",
      "max_pooling2d_3 (MaxPooling2 (None, 4, 4, 256)         0         \n",
      "_________________________________________________________________\n",
      "conv2d_5 (Conv2D)            (None, 4, 4, 512)         1180160   \n",
      "_________________________________________________________________\n",
      "conv2d_6 (Conv2D)            (None, 4, 4, 512)         2359808   \n",
      "_________________________________________________________________\n",
      "max_pooling2d_4 (MaxPooling2 (None, 2, 2, 512)         0         \n",
      "_________________________________________________________________\n",
      "conv2d_7 (Conv2D)            (None, 2, 2, 512)         2359808   \n",
      "_________________________________________________________________\n",
      "conv2d_8 (Conv2D)            (None, 2, 2, 512)         2359808   \n",
      "_________________________________________________________________\n",
      "max_pooling2d_5 (MaxPooling2 (None, 1, 1, 512)         0         \n",
      "_________________________________________________________________\n",
      "flatten_1 (Flatten)          (None, 512)               0         \n",
      "_________________________________________________________________\n",
      "dense_1 (Dense)              (None, 4096)              2101248   \n",
      "_________________________________________________________________\n",
      "dropout_1 (Dropout)          (None, 4096)              0         \n",
      "_________________________________________________________________\n",
      "dense_2 (Dense)              (None, 4096)              16781312  \n",
      "_________________________________________________________________\n",
      "dropout_2 (Dropout)          (None, 4096)              0         \n",
      "_________________________________________________________________\n",
      "dense_3 (Dense)              (None, 10)                40970     \n",
      "=================================================================\n",
      "Total params: 28,144,010\n",
      "Trainable params: 28,144,010\n",
      "Non-trainable params: 0\n",
      "_________________________________________________________________\n"
     ]
    }
   ],
   "source": [
    "from keras.datasets import cifar10\n",
    "from keras.utils import to_categorical\n",
    "from vgg import VGG\n",
    "\n",
    "\n",
    "def load_data(one_hot_encode_labels=True):\n",
    "    (x_train, y_train), (x_test, y_test) = cifar10.load_data()\n",
    "    if one_hot_encode_labels:\n",
    "        y_train = to_categorical(y_train)\n",
    "        y_test = to_categorical(y_test)\n",
    "    return (x_train, y_train), (x_test, y_test)\n",
    "\n",
    "(x_train, y_train), (x_test, y_test) = load_data()\n",
    "\n",
    "model = VGG(model_type='A', dropout=0.5, num_classes=y_train.shape[1], input_shape=x_train.shape[1:])\n",
    "model.summary()"
   ]
  },
  {
   "cell_type": "code",
   "execution_count": 2,
   "metadata": {
    "scrolled": false
   },
   "outputs": [
    {
     "name": "stdout",
     "output_type": "stream",
     "text": [
      "Train on 40000 samples, validate on 10000 samples\n",
      "Epoch 1/25\n",
      "40000/40000 [==============================] - 30s 743us/step - loss: 2.3787 - acc: 0.1091 - val_loss: 2.2667 - val_acc: 0.1596\n",
      "Epoch 2/25\n",
      "40000/40000 [==============================] - 24s 591us/step - loss: 2.0337 - acc: 0.1966 - val_loss: 1.8049 - val_acc: 0.3088\n",
      "Epoch 3/25\n",
      "40000/40000 [==============================] - 24s 595us/step - loss: 1.6594 - acc: 0.3643 - val_loss: 1.5666 - val_acc: 0.4054\n",
      "Epoch 4/25\n",
      "40000/40000 [==============================] - 24s 594us/step - loss: 1.3528 - acc: 0.4890 - val_loss: 1.3242 - val_acc: 0.5300\n",
      "Epoch 5/25\n",
      "40000/40000 [==============================] - 24s 598us/step - loss: 1.1848 - acc: 0.5702 - val_loss: 1.3139 - val_acc: 0.5347\n",
      "Epoch 6/25\n",
      "40000/40000 [==============================] - 24s 595us/step - loss: 0.9847 - acc: 0.6515 - val_loss: 1.0457 - val_acc: 0.6308\n",
      "Epoch 7/25\n",
      "40000/40000 [==============================] - 24s 597us/step - loss: 0.8281 - acc: 0.7095 - val_loss: 0.9738 - val_acc: 0.6679\n",
      "Epoch 8/25\n",
      "40000/40000 [==============================] - 24s 596us/step - loss: 0.6667 - acc: 0.7696 - val_loss: 0.9162 - val_acc: 0.6952\n",
      "Epoch 9/25\n",
      "40000/40000 [==============================] - 24s 598us/step - loss: 0.5760 - acc: 0.8031 - val_loss: 0.9503 - val_acc: 0.6942\n",
      "Epoch 10/25\n",
      "40000/40000 [==============================] - 24s 596us/step - loss: 0.4591 - acc: 0.8435 - val_loss: 0.9715 - val_acc: 0.7063\n",
      "Epoch 11/25\n",
      "40000/40000 [==============================] - 24s 596us/step - loss: 0.4044 - acc: 0.8621 - val_loss: 1.1426 - val_acc: 0.6848\n",
      "Epoch 12/25\n",
      "40000/40000 [==============================] - 24s 596us/step - loss: 0.3397 - acc: 0.8849 - val_loss: 1.2810 - val_acc: 0.6822\n",
      "Epoch 13/25\n",
      "40000/40000 [==============================] - 24s 597us/step - loss: 0.2917 - acc: 0.9027 - val_loss: 1.2227 - val_acc: 0.7053\n",
      "Epoch 14/25\n",
      "40000/40000 [==============================] - 24s 596us/step - loss: 0.2333 - acc: 0.9219 - val_loss: 1.2229 - val_acc: 0.6980\n",
      "Epoch 15/25\n",
      "40000/40000 [==============================] - 24s 596us/step - loss: 0.2157 - acc: 0.9304 - val_loss: 1.3270 - val_acc: 0.7143\n",
      "Epoch 16/25\n",
      "40000/40000 [==============================] - 24s 596us/step - loss: 0.1571 - acc: 0.9493 - val_loss: 1.2684 - val_acc: 0.7090\n",
      "Epoch 17/25\n",
      "40000/40000 [==============================] - 24s 596us/step - loss: 0.1505 - acc: 0.9511 - val_loss: 1.3134 - val_acc: 0.7091\n",
      "Epoch 18/25\n",
      "40000/40000 [==============================] - 24s 596us/step - loss: 0.1530 - acc: 0.9502 - val_loss: 1.3329 - val_acc: 0.7128\n",
      "Epoch 19/25\n",
      "40000/40000 [==============================] - 24s 596us/step - loss: 0.1443 - acc: 0.9547 - val_loss: 1.4721 - val_acc: 0.7094\n",
      "Epoch 20/25\n",
      "40000/40000 [==============================] - 24s 596us/step - loss: 0.1199 - acc: 0.9616 - val_loss: 1.3835 - val_acc: 0.7173\n",
      "Epoch 21/25\n",
      "40000/40000 [==============================] - 24s 595us/step - loss: 0.0844 - acc: 0.9737 - val_loss: 1.4713 - val_acc: 0.7104\n",
      "Epoch 22/25\n",
      "40000/40000 [==============================] - 24s 595us/step - loss: 0.0996 - acc: 0.9686 - val_loss: 1.5770 - val_acc: 0.7102\n",
      "Epoch 23/25\n",
      "40000/40000 [==============================] - 24s 595us/step - loss: 0.0845 - acc: 0.9726 - val_loss: 1.5570 - val_acc: 0.6975\n",
      "Epoch 24/25\n",
      "40000/40000 [==============================] - 24s 595us/step - loss: 0.0975 - acc: 0.9704 - val_loss: 1.5857 - val_acc: 0.7093\n",
      "Epoch 25/25\n",
      "40000/40000 [==============================] - 24s 595us/step - loss: 0.0769 - acc: 0.9754 - val_loss: 1.5671 - val_acc: 0.7163\n"
     ]
    },
    {
     "data": {
      "text/plain": [
       "<keras.callbacks.History at 0x7fd14b68ce80>"
      ]
     },
     "execution_count": 2,
     "metadata": {},
     "output_type": "execute_result"
    }
   ],
   "source": [
    "from keras.callbacks import ModelCheckpoint, TensorBoard\n",
    "\n",
    "checkpoint = ModelCheckpoint('VGG.weights.best.hdf5', save_best_only=True)\n",
    "tensorboard = TensorBoard()\n",
    "\n",
    "model.compile(loss='categorical_crossentropy', optimizer='adam', metrics=['accuracy'])\n",
    "\n",
    "model.fit(x_train, y_train, batch_size=512, epochs=25, callbacks=[checkpoint, tensorboard], \n",
    "          validation_split=0.2, shuffle=True)"
   ]
  },
  {
   "cell_type": "code",
   "execution_count": 6,
   "metadata": {},
   "outputs": [
    {
     "name": "stdout",
     "output_type": "stream",
     "text": [
      "50000/50000 [==============================] - 8s 156us/step\n",
      "10000/10000 [==============================] - 2s 155us/step\n",
      "Accuracy on training data: 79.54%\n",
      "Accuracy on testing data: 68.27%\n"
     ]
    }
   ],
   "source": [
    "model.load_weights('VGG.weights.best.hdf5')\n",
    "score_train = model.evaluate(x_train, y_train, batch_size=1024)\n",
    "score_test = model.evaluate(x_test, y_test, batch_size=1024)\n",
    "\n",
    "print('Accuracy on training data: {:.2f}%'.format(score_train[1] * 100))\n",
    "print('Accuracy on testing data: {:.2f}%'.format(score_test[1] * 100))"
   ]
  },
  {
   "cell_type": "code",
   "execution_count": null,
   "metadata": {},
   "outputs": [],
   "source": []
  }
 ],
 "metadata": {
  "kernelspec": {
   "display_name": "Python 3",
   "language": "python",
   "name": "python3"
  },
  "language_info": {
   "codemirror_mode": {
    "name": "ipython",
    "version": 3
   },
   "file_extension": ".py",
   "mimetype": "text/x-python",
   "name": "python",
   "nbconvert_exporter": "python",
   "pygments_lexer": "ipython3",
   "version": "3.6.4"
  }
 },
 "nbformat": 4,
 "nbformat_minor": 2
}
